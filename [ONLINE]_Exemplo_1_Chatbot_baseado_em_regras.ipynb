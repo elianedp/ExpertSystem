{
  "nbformat": 4,
  "nbformat_minor": 0,
  "metadata": {
    "colab": {
      "provenance": [],
      "toc_visible": true,
      "include_colab_link": true
    },
    "kernelspec": {
      "name": "python3",
      "display_name": "Python 3"
    }
  },
  "cells": [
    {
      "cell_type": "markdown",
      "metadata": {
        "id": "view-in-github",
        "colab_type": "text"
      },
      "source": [
        "<a href=\"https://colab.research.google.com/github/elianedp/ExpertSystem/blob/main/%5BONLINE%5D_Exemplo_1_Chatbot_baseado_em_regras.ipynb\" target=\"_parent\"><img src=\"https://colab.research.google.com/assets/colab-badge.svg\" alt=\"Open In Colab\"/></a>"
      ]
    },
    {
      "cell_type": "markdown",
      "metadata": {
        "id": "idIMZgaR3IqM"
      },
      "source": [
        "# Exemplo 1 - Chatbot de atendimento ao cliente baseado em regras\n",
        "## Tecnólogo em Inteligência Artificial Aplicada - Agentes Conversacionais\n",
        "Neste notebook iremos construir um chatbot utilizando-se das técnicas mais simples de desenvolvimento."
      ]
    },
    {
      "cell_type": "markdown",
      "metadata": {
        "id": "bJha823g3bk2"
      },
      "source": [
        "### Chatbot baseado em regras\n",
        "\n",
        "É o tipo de chatbot mais simples que existe, que consiste em um dataset com respostas pré-definidas e uma série de regras que servem para encontrar estas respostas (ou intenções) no dataset.\n",
        "\n",
        "Apesar das limitações, eles podem ser bastante eficientes e produtivos se tiverem regras bem definidas e um dataset substancial de respostas.\n"
      ]
    },
    {
      "cell_type": "markdown",
      "metadata": {
        "id": "DDw6X5Dq3h_Z"
      },
      "source": [
        "### Qual o contexto de nosso chatbot?\n",
        "\n",
        "Iremos desenvolver um chatbot de interação com clientes de um restaurante. O objetivo é que o chatbot auxilie o cliente a encontrar as informações desejadas sem que precise navegar por vários links do site."
      ]
    },
    {
      "cell_type": "markdown",
      "metadata": {
        "id": "0XlqXcfuAPbQ"
      },
      "source": [
        "### Quais ferramentas e técnicas iremos utilizar?\n",
        "\n",
        "*   **NLTK** - O mais famoso toolkit de Processamento de Linguagem Natural em Python.\n",
        "*   **Expressões Regulares** - o pacote de regex do Python será utilizado para otimizar a busca de padrões.\n",
        "*   **WordNet** - o grande banco de dados léxico e semântico, disponível em diversos idiomas.\n",
        "\n"
      ]
    },
    {
      "cell_type": "markdown",
      "metadata": {
        "id": "rHKrJBjdBqw1"
      },
      "source": [
        "### Construindo o chatbot\n",
        "Nosso chatbot vai operar da seguinte maneira:\n",
        "\n",
        "1.   Recebe **entrada** do usuário\n",
        "2.   Procura **palavras-chave** na entrada do usuário\n",
        "3.   Define a **intenção associada** à entrada\n",
        "4.   Obtém a **resposta baseada na intenção** definida\n",
        "5.   Mostra a **resposta** ao usuário\n",
        "\n",
        "Portanto, temos de ter uma **tabela que associe as palavras-chave desejadas, com as intenções definidas** em nosso dataset. A seguir um exemplo:\n",
        "![Exemplo de busca de intenção e resposta](https://docs.google.com/uc?export=download&id=1LnOTZiahBSv9VGrCSExbylNbxHpclMKZ)"
      ]
    },
    {
      "cell_type": "markdown",
      "metadata": {
        "id": "qb2Dp_OFJAyO"
      },
      "source": [
        "#### Importando as bibliotecas\n",
        "Vamos importar o pacote de expressões regulares do Python e também o acesso ao WordNet dado pelo NLTK."
      ]
    },
    {
      "cell_type": "markdown",
      "metadata": {
        "id": "ftSLh5WhJYWN"
      },
      "source": [
        "#### Construindo a lista de palavras-chave\n",
        "Esta é uma etapa que pode demandar bastante tempo, principalmente de você quiser definir as palavras manualmente. Porém, quanto mais palavras-chave você tiver, maior cobertura seu chatbot vai ter.\n",
        "\n",
        "Por questões didáticas, vamos a partir de um único termo, tentar automatizar esta busca, utilizando os sinônimos encontrados no WordNet."
      ]
    },
    {
      "cell_type": "code",
      "source": [
        "# Instala a biblioteca unidecode (só precisa rodar uma vez no ambiente)\n",
        "!pip install unidecode\n",
        "\n",
        "import re\n",
        "import nltk\n",
        "from nltk.corpus import wordnet\n",
        "import unidecode  # para remover acentos\n",
        "\n",
        "# Baixar pacotes necessários\n",
        "nltk.download('wordnet')\n",
        "nltk.download('omw-1.4')\n",
        "\n",
        "# Lista de palavras\n",
        "palavras = [\"olá\", \"horário\", \"cardápio\"]\n",
        "lista_sinonimos = {}\n",
        "\n",
        "for palavra in palavras:\n",
        "    sinonimos = []\n",
        "    for syn in wordnet.synsets(palavra, lang=\"por\"):\n",
        "        for nome in syn.lemma_names(\"por\"):\n",
        "            sinonimos.append(unidecode.unidecode(nome.lower()))\n",
        "    lista_sinonimos[palavra] = set(sinonimos)\n",
        "\n",
        "print(\"Lista de sinônimos gerada:\")\n",
        "print(lista_sinonimos)"
      ],
      "metadata": {
        "colab": {
          "base_uri": "https://localhost:8080/"
        },
        "id": "TpwWrL0J4weT",
        "outputId": "07ace47e-23d4-4135-f274-7a81a6678935"
      },
      "execution_count": 1,
      "outputs": [
        {
          "output_type": "stream",
          "name": "stdout",
          "text": [
            "Requirement already satisfied: unidecode in /usr/local/lib/python3.12/dist-packages (1.4.0)\n"
          ]
        },
        {
          "output_type": "stream",
          "name": "stderr",
          "text": [
            "[nltk_data] Downloading package wordnet to /root/nltk_data...\n",
            "[nltk_data]   Package wordnet is already up-to-date!\n",
            "[nltk_data] Downloading package omw-1.4 to /root/nltk_data...\n",
            "[nltk_data]   Package omw-1.4 is already up-to-date!\n"
          ]
        },
        {
          "output_type": "stream",
          "name": "stdout",
          "text": [
            "Lista de sinônimos gerada:\n",
            "{'olá': {'ola'}, 'horário': {'ordem_do_dia', 'horario', 'plano', 'programa', 'agenda', 'cronograma'}, 'cardápio': {'cardapio', 'menu'}}\n"
          ]
        }
      ]
    },
    {
      "cell_type": "code",
      "metadata": {
        "id": "gIva6KOh2l4y",
        "colab": {
          "base_uri": "https://localhost:8080/"
        },
        "outputId": "c0c21aec-d6b4-49f0-a364-60a1dfdf171e"
      },
      "source": [
        "# Lista de palavras-chave (intenções que o chatbot deve reconhecer)\n",
        "# Já incluí \"olá\", \"horário\" e adicionamos \"cardápio\" como melhoria\n",
        "palavras = [\"olá\", \"horário\", \"cardápio\"]\n",
        "\n",
        "# Dicionário de sinônimos\n",
        "lista_sinonimos = {}\n",
        "\n",
        "# Percorre a lista de palavras\n",
        "for palavra in palavras:\n",
        "    sinonimos = []\n",
        "    # Busca sinônimos da palavra no WordNet (em português)\n",
        "    for syn in wordnet.synsets(palavra, lang=\"por\"):\n",
        "        for lem in syn.lemma_names(\"por\"):\n",
        "            # Normaliza: minúsculas e sem acento\n",
        "            sinonimos.append(unidecode.unidecode(lem.lower()))\n",
        "    # Remove duplicatas e adiciona ao dicionário\n",
        "    lista_sinonimos[palavra] = set(sinonimos)\n",
        "\n",
        "# Mostra os sinônimos encontrados\n",
        "print(\"Lista de sinônimos gerada:\")\n",
        "print(lista_sinonimos)"
      ],
      "execution_count": 2,
      "outputs": [
        {
          "output_type": "stream",
          "name": "stdout",
          "text": [
            "Lista de sinônimos gerada:\n",
            "{'olá': {'ola'}, 'horário': {'ordem_do_dia', 'horario', 'plano', 'programa', 'agenda', 'cronograma'}, 'cardápio': {'cardapio', 'menu'}}\n"
          ]
        }
      ]
    },
    {
      "cell_type": "markdown",
      "metadata": {
        "id": "UStaGdFvML8M"
      },
      "source": [
        "#### Construindo dicionário de intenções\n",
        "Vamos utilizar o dicionário de sinônimos construído e mapeá-los para as possíveis intenções. Além disso, vamos formatar as palavras-chave de modo que sejam interpretadas pela ferramenta de busca de expressões regulares."
      ]
    },
    {
      "cell_type": "code",
      "metadata": {
        "id": "Mo4X9dzsMq09",
        "colab": {
          "base_uri": "https://localhost:8080/"
        },
        "outputId": "58553bca-ea5e-4b85-d5c7-e2a2ed251cd2"
      },
      "source": [
        "# Construindo dicionário de intenções a partir dos sinônimos\n",
        "keywords = {}\n",
        "keywords_dict = {}\n",
        "\n",
        "# 🔹 Intenção: Saudação\n",
        "keywords['saudacao'] = []\n",
        "for sin in list(lista_sinonimos['olá']):\n",
        "    keywords['saudacao'].append(r'.*\\b' + sin + r'\\b.*')\n",
        "\n",
        "# 🔹 Intenção: Horário de atendimento\n",
        "keywords['horario_atendimento'] = []\n",
        "for sin in list(lista_sinonimos['horário']):\n",
        "    keywords['horario_atendimento'].append(r'.*\\b' + sin + r'\\b.*')\n",
        "\n",
        "# 🔹 Intenção: Cardápio (melhoria que eu adicionei)\n",
        "keywords['cardapio'] = []\n",
        "for sin in list(lista_sinonimos['cardápio']):\n",
        "    keywords['cardapio'].append(r'.*\\b' + sin + r'\\b.*')\n",
        "\n",
        "# 🔹 Intenção: Endereço (adicionei manualmente)\n",
        "keywords['endereco'] = [r'.*\\bendereco\\b.*', r'.*\\bruab\\b.*', r'.*\\bloc\\b.*']\n",
        "\n",
        "# 🔹 Intenção: Delivery (adicionei manualmente)\n",
        "keywords['delivery'] = [r'.*\\bdelivery\\b.*', r'.*\\bentrega\\b.*', r'.*\\bpedido\\b.*']\n",
        "\n",
        "# 🔹 Intenção: Reserva de mesa (adicionei manualmente)\n",
        "keywords['reserva'] = [r'.*\\breserva\\b.*', r'.*\\bmesa\\b.*', r'.*\\breservar\\b.*']\n",
        "\n",
        "# Compila os padrões regex para cada intenção\n",
        "for intent, keys in keywords.items():\n",
        "    keywords_dict[intent] = re.compile('|'.join(keys))\n",
        "\n",
        "# Visualiza o dicionário de intenções\n",
        "print(\"Dicionário de intenções (regex):\")\n",
        "print(keywords_dict)"
      ],
      "execution_count": 3,
      "outputs": [
        {
          "output_type": "stream",
          "name": "stdout",
          "text": [
            "Dicionário de intenções (regex):\n",
            "{'saudacao': re.compile('.*\\\\bola\\\\b.*'), 'horario_atendimento': re.compile('.*\\\\bordem_do_dia\\\\b.*|.*\\\\bhorario\\\\b.*|.*\\\\bplano\\\\b.*|.*\\\\bprograma\\\\b.*|.*\\\\bagenda\\\\b.*|.*\\\\bcronograma\\\\b.*'), 'cardapio': re.compile('.*\\\\bcardapio\\\\b.*|.*\\\\bmenu\\\\b.*'), 'endereco': re.compile('.*\\\\bendereco\\\\b.*|.*\\\\bruab\\\\b.*|.*\\\\bloc\\\\b.*'), 'delivery': re.compile('.*\\\\bdelivery\\\\b.*|.*\\\\bentrega\\\\b.*|.*\\\\bpedido\\\\b.*'), 'reserva': re.compile('.*\\\\breserva\\\\b.*|.*\\\\bmesa\\\\b.*|.*\\\\breservar\\\\b.*')}\n"
          ]
        }
      ]
    },
    {
      "cell_type": "code",
      "source": [
        "# Aqui eu estou criando as respostas que o meu chatbot vai usar.\n",
        "# Também deixei uma resposta padrão para quando ele não entender a pergunta.\n",
        "# Além disso, adicionei novas intenções: endereço, delivery e reserva de mesa.\n",
        "\n",
        "respostas = {\n",
        "    'saudacao': 'Olá! Como posso ajudá-lo?',\n",
        "    'horario_atendimento': 'Abrimos para almoço das 11h30 às 15h00 e para jantar das 18h30 às 23h00.',\n",
        "    'cardapio': 'Nosso cardápio inclui pratos variados, como massas, saladas e carnes.',  # melhoria que eu adicionei\n",
        "    'endereco': 'Nosso restaurante fica na Rua das Flores, nº 123, no centro da cidade.',\n",
        "    'delivery': 'Sim, fazemos delivery! Você pode pedir pelo nosso site ou pelo telefone (45) 1234-5678.',\n",
        "    'reserva': 'Para reservar uma mesa, por favor me diga a data, o horário e o número de pessoas.',\n",
        "    'padrao': 'Me desculpe, mas não entendi o que você disse. Você poderia reformular?'\n",
        "}\n"
      ],
      "metadata": {
        "id": "0mX-BeVF7VTk"
      },
      "execution_count": 6,
      "outputs": []
    },
    {
      "cell_type": "markdown",
      "metadata": {
        "id": "LpXYtjSsR7qR"
      },
      "source": [
        "> **NOTA**: Aqui poderíamos ainda criar mais de uma resposta para cada intenção, evitando que a interação fique repetitivo.\n",
        "\n",
        "\n"
      ]
    },
    {
      "cell_type": "markdown",
      "metadata": {
        "id": "mpartfvuS64y"
      },
      "source": [
        "#### Linkando as intenções e gerando as repostas (front-end)\n",
        "Aqui construíremos de fato o algoritmo que fará a interação com o usuário (o gerenciador de diálogo), onde receberemos uma entrada do mesmo, e utilizando regex, iremos buscar as palavras-chave no texto e associar com a intenção desejada."
      ]
    },
    {
      "cell_type": "code",
      "metadata": {
        "id": "g8EV79SITsTQ",
        "colab": {
          "base_uri": "https://localhost:8080/"
        },
        "outputId": "63754a56-297c-4156-ebd5-6553432cc4c7"
      },
      "source": [
        "print(\"Bem-vindo ao restaurante McChat!\")\n",
        "\n",
        "# Dicionário para salvar reservas feitas\n",
        "reservas = []\n",
        "\n",
        "# Roda indefinidamente, até que o usuário peça para sair\n",
        "while True:\n",
        "\n",
        "    # Pega o input do usuário e normaliza em letras minúsculas\n",
        "    entrada = input(\"Você: \").lower()\n",
        "\n",
        "    # Define condição de saída\n",
        "    if entrada == 'sair':\n",
        "        print(\"Chatbot: Obrigado pela visita. Volte sempre!\")\n",
        "        break\n",
        "\n",
        "    matched_intent = None\n",
        "\n",
        "    # Verifica se alguma intenção bate com a entrada\n",
        "    for intent, pattern in keywords_dict.items():\n",
        "        if re.search(pattern, entrada):\n",
        "            matched_intent = intent\n",
        "            break  # para na primeira correspondência encontrada\n",
        "\n",
        "    # Caso especial: intenção de reserva\n",
        "    if matched_intent == 'reserva':\n",
        "        # Tenta identificar quantidade de pessoas\n",
        "        pessoas = re.findall(r'\\d+', entrada)\n",
        "        qtd = pessoas[0] if pessoas else \"não informado\"\n",
        "\n",
        "        # Salva a reserva em uma lista de dicionários\n",
        "        reservas.append({\n",
        "            \"pedido\": entrada,\n",
        "            \"pessoas\": qtd\n",
        "        })\n",
        "\n",
        "        print(f\"Chatbot: Ok, anotei uma reserva para {qtd} pessoa(s).\")\n",
        "        continue  # volta para o próximo input\n",
        "\n",
        "    # Por padrão, usamos a intenção 'padrao'\n",
        "    key = 'padrao'\n",
        "    if matched_intent in respostas:\n",
        "        key = matched_intent\n",
        "\n",
        "    # O chatbot imprime a resposta correspondente\n",
        "    print(\"Chatbot:\", respostas[key])"
      ],
      "execution_count": null,
      "outputs": [
        {
          "output_type": "stream",
          "name": "stdout",
          "text": [
            "Bem-vindo ao restaurante McChat!\n",
            "Você: cardapio\n",
            "Chatbot: Nosso cardápio inclui pratos variados, como massas, saladas e carnes.\n"
          ]
        }
      ]
    },
    {
      "cell_type": "markdown",
      "metadata": {
        "id": "BRPhiibGWO1D"
      },
      "source": [
        "Assim, finalizamos o desenvolvimento de nosso modelo de chatbot.\n"
      ]
    },
    {
      "cell_type": "markdown",
      "metadata": {
        "id": "0JMOce1PXp1h"
      },
      "source": [
        "### O que pode ser feito?\n",
        "Como dito inicialmente, esta é a abordagem e arquitetura mais simples de chatbot, que depende muito do tamanho e cobertura da base de dados para seu sucesso.\n",
        "Então, o que poderíamos fazer para melhorar?\n",
        "\n",
        "\n",
        "*   Inclua mais intenções na base de dados relacionadas a dados necessários para um restaurante (e.g., endereço, cardápio, delivery, reservas)\n",
        "*   Tente fazer uma regra específica para reserva de mesas no restaurante em que se salve as reservas em um dicionário e utilize regex para obter os parâmetros de data, horário e quantidade de pessoas em meio ao texto\n",
        "*   Caso o restaurante abra para almoço e jantar, como resolver a intenção de horário de atendimento?\n",
        "\n"
      ]
    },
    {
      "cell_type": "markdown",
      "metadata": {
        "id": "vP59ECc53nqF"
      },
      "source": [
        "## Referências e Material complementar\n",
        "\n",
        "* [Criando meu ChatBot com Python](https://medium.com/@erikatiliorey/criando-um-chatbot-com-python-36f24b62df6c)\n",
        "* [Introducing Conversational Chat bots using Rule Based Approach](https://chatbotslife.com/introducing-conversational-chat-bots-using-rule-based-approach-c8840aeaad07)\n",
        "* [Building a Simple Chatbot from Scratch in Python (using NLTK)](https://medium.com/analytics-vidhya/building-a-simple-chatbot-in-python-using-nltk-7c8c8215ac6e)\n",
        "* [How to write a smart Chatbot in 40 lines without ML](https://levelup.gitconnected.com/a-chatbot-without-machine-learning-b76ad00e30c1)\n",
        "* [Building a Rule-based Chatbot in Python](https://blog.datasciencedojo.com/building-a-rule-based-chatbot-in-python/)\n",
        "* [Basic FAQ chat bot](https://github.com/canonicalmg/FAQ-Chat-Bot)"
      ]
    },
    {
      "cell_type": "markdown",
      "metadata": {
        "id": "OwExBlA63rt9"
      },
      "source": [
        "Este notebook foi produzido por Prof. [Lucas Oliveira](http://lattes.cnpq.br/3611246009892500)."
      ]
    }
  ]
}