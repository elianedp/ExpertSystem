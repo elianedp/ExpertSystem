{
  "nbformat": 4,
  "nbformat_minor": 0,
  "metadata": {
    "colab": {
      "provenance": [],
      "toc_visible": true,
      "include_colab_link": true
    },
    "kernelspec": {
      "name": "python3",
      "display_name": "Python 3"
    },
    "language_info": {
      "name": "python"
    }
  },
  "cells": [
    {
      "cell_type": "markdown",
      "metadata": {
        "id": "view-in-github",
        "colab_type": "text"
      },
      "source": [
        "<a href=\"https://colab.research.google.com/github/elianedp/ExpertSystem/blob/main/%5BONLINE%5D_chatbot_faq_bank_(1).ipynb\" target=\"_parent\"><img src=\"https://colab.research.google.com/assets/colab-badge.svg\" alt=\"Open In Colab\"/></a>"
      ]
    },
    {
      "cell_type": "markdown",
      "metadata": {
        "id": "LZoTRNiT0p2d"
      },
      "source": [
        "# Chatbot de FAQ bancário\n",
        "## Tecnólogo em Inteligência Artificial Aplicada - Agentes Conversacionais\n",
        "Neste notebook iremos trabalhar com um chatbot utilizado para responder perguntas do FAQ (Frequently Asked Questions) de um banco."
      ]
    },
    {
      "cell_type": "markdown",
      "metadata": {
        "id": "cS70TEjX1HDP"
      },
      "source": [
        "### Implementação utilizada - [Chatbot](https://github.com/kunkaweb/Chatbot)\n",
        "Este chatbot é **híbrido**, que utiliza-se de regras e dados em um corpus. Ele faz uso de tecnicas básicas de Processamento de Linguagem Natural, implementadas nas bibliotecas **nltk** e **scikit-learn**."
      ]
    },
    {
      "cell_type": "markdown",
      "source": [
        "# ============================================================\n",
        "#** ATIVIDADE FORMATIVA – Complementando um agente de perguntas frequentes**\n",
        "#\n",
        "# Aluna: Eliane Maria de Pieri\n",
        "# Curso: Tecnólogo em Inteligência Artificial Aplicada\n",
        "# Disciplina: Agentes Conversacionais\n",
        "#\n",
        "# MELHORIA IMPLEMENTADA (Opção 2 da atividade):\n",
        "# Armazenar todas as listagens de possíveis respostas em arquivos externos,\n",
        "# evitando manter respostas fixas no código.\n",
        "#\n",
        "# ✅ Alterações realizadas:\n",
        "# 1. Criado o arquivo externo \"respostas.csv\" contendo respostas para:\n",
        "#    - Saudações\n",
        "#    - Agradecimentos\n",
        "#    - Despedidas\n",
        "#\n",
        "# 2. Substituídas as funções originais:\n",
        "#    - greeting() → agora busca respostas da categoria \"saudacao\" no CSV\n",
        "#    - isThanks() → agora busca respostas da categoria \"agradecimento\" no CSV\n",
        "#    - isEnding() → agora busca respostas da categoria \"despedida\" no CSV\n",
        "#\n",
        "# 3. Adaptado o laço principal do chatbot para trabalhar com as novas funções,\n",
        "#    recebendo as respostas diretamente do arquivo externo.\n",
        "#\n",
        "# 4. Mantidos os demais blocos (normalização, corpus FAQ, TF-IDF, etc.),\n",
        "#    pois já utilizam dados externos (faq-corpus.txt).\n",
        "#\n",
        "# Resultado:\n",
        "# O chatbot agora pode ser facilmente expandido ou atualizado apenas editando\n",
        "# o arquivo \"respostas.csv\", sem necessidade de alterar o código-fonte.\n",
        "# ============================================================"
      ],
      "metadata": {
        "id": "jJCxxHvQoqUV"
      }
    },
    {
      "cell_type": "code",
      "source": [
        "import nltk\n",
        "import numpy as np\n",
        "import random\n",
        "import string\n",
        "import warnings\n",
        "import pandas as pd\n",
        "\n",
        "# Conecta ao Google Drive\n",
        "from google.colab import drive\n",
        "drive.mount('/content/drive')\n",
        "\n",
        "# Lê as respostas direto do Drive\n",
        "respostas_df = pd.read_csv(\"/content/drive/MyDrive/chatbot/respostas.csv\")\n",
        "\n",
        "# Função para escolher resposta de uma categoria\n",
        "def responder_categoria(categoria):\n",
        "    possiveis = respostas_df[respostas_df[\"categoria\"] == categoria][\"resposta\"].tolist()\n",
        "    if possiveis:\n",
        "        return random.choice(possiveis)\n",
        "    else:\n",
        "        return \"Desculpe, não tenho resposta para isso.\"\n"
      ],
      "metadata": {
        "colab": {
          "base_uri": "https://localhost:8080/"
        },
        "id": "SOvh-cNGidgQ",
        "outputId": "a171a49b-60bc-4645-f414-3573438cb8a0"
      },
      "execution_count": 19,
      "outputs": [
        {
          "output_type": "stream",
          "name": "stdout",
          "text": [
            "Drive already mounted at /content/drive; to attempt to forcibly remount, call drive.mount(\"/content/drive\", force_remount=True).\n"
          ]
        }
      ]
    },
    {
      "cell_type": "code",
      "source": [
        "import os\n",
        "print(os.listdir())"
      ],
      "metadata": {
        "colab": {
          "base_uri": "https://localhost:8080/"
        },
        "id": "U5SUquEhgbEc",
        "outputId": "8a5729bf-9baf-4ff0-bd43-c104fe285e55"
      },
      "execution_count": 15,
      "outputs": [
        {
          "output_type": "stream",
          "name": "stdout",
          "text": [
            "['.config', 'drive', 'respostas.csv', 'sample_data']\n"
          ]
        }
      ]
    },
    {
      "cell_type": "markdown",
      "metadata": {
        "id": "urufmfDx2SuB"
      },
      "source": [
        "#### Carregando corpus do FAQ\n",
        "Aqui nós carregamos um corpus com as perguntas frequentes do banco, disponíveis em arquivo texto. Este documento pode ser editado a qualquer momento, seja para inserir novas questões, ou apagar e editar questões já existentes."
      ]
    },
    {
      "cell_type": "code",
      "metadata": {
        "id": "zMYxvUS22uGI"
      },
      "source": [
        "# Abre arquivo e coloca em minúsculas\n",
        "f = open('faq-corpus.txt','r')\n",
        "raw = f.read().lower()\n",
        "\n",
        "# Segmenta sentenças e tokeniza o corpus\n",
        "sent_tokens = nltk.sent_tokenize(raw)\n",
        "word_tokens = nltk.word_tokenize(raw)"
      ],
      "execution_count": null,
      "outputs": []
    },
    {
      "cell_type": "code",
      "metadata": {
        "colab": {
          "base_uri": "https://localhost:8080/"
        },
        "id": "b59iDQ3l5LP8",
        "outputId": "3b5e5fbc-3fdd-49bd-b42e-6354c4a6c5e9"
      },
      "source": [
        "sent_tokens"
      ],
      "execution_count": null,
      "outputs": [
        {
          "output_type": "execute_result",
          "data": {
            "text/plain": [
              "['você pode abrir sua conta em uma de nossas agências ou unidades do correspondente mais bb e banco postal.',\n",
              " 'menores de 18 anos (não emancipados) deverão comparecer à agência acompanhados do responsável legal, munidos dos respectivos documentos.',\n",
              " 'os documentos necessários são cpf, documento de identificação original com foto, comprovante de endereço e renda atualizados (até 90 dias), caso não possua comprovante de residência no próprio nome, é aceita declaração do titular do comprovante com firma reconhecida em cartório.',\n",
              " 'é necessário que você e as pessoas que serão incluídas compareçam à agência, todos os titulares devem apresentar: cpf, documento de identificação original com foto, comprovantes de endereço e renda atualizados (ambos com validade de até 90 dias).',\n",
              " 'sim, será necessário que todos assinem documento específico disponibilizado na agência que mantém a conta ou que estejam presentes e façam a concordância formal mediante carta própria assinada por todos.',\n",
              " 'tomar conhecimento das tarifas cobradas pela aquisição e utilização de produtos e serviços, conforme tabela de tarifas disponível no portal do banco do brasil e afixada nas agências em local visível.']"
            ]
          },
          "metadata": {
            "tags": []
          },
          "execution_count": 60
        }
      ]
    },
    {
      "cell_type": "code",
      "metadata": {
        "colab": {
          "base_uri": "https://localhost:8080/"
        },
        "id": "Ob44VAxa5MhA",
        "outputId": "1d8ffa7e-b837-4250-e613-162e3956039d"
      },
      "source": [
        "word_tokens[0:15]"
      ],
      "execution_count": null,
      "outputs": [
        {
          "output_type": "execute_result",
          "data": {
            "text/plain": [
              "['você',\n",
              " 'pode',\n",
              " 'abrir',\n",
              " 'sua',\n",
              " 'conta',\n",
              " 'em',\n",
              " 'uma',\n",
              " 'de',\n",
              " 'nossas',\n",
              " 'agências',\n",
              " 'ou',\n",
              " 'unidades',\n",
              " 'do',\n",
              " 'correspondente',\n",
              " 'mais']"
            ]
          },
          "metadata": {
            "tags": []
          },
          "execution_count": 61
        }
      ]
    },
    {
      "cell_type": "markdown",
      "metadata": {
        "id": "Lj-r6fM95Yrh"
      },
      "source": [
        "#### Normalização e redução de dimensionalidade\n",
        "Aqui definimos funções que utilizam o processo de Stemming nos textos, para normalizar termos similares a uma única forma. Exemplo: \"gato\", \"gatos\", \"gata\" e \"gatas\" são normalizados para \"gat\"."
      ]
    },
    {
      "cell_type": "code",
      "metadata": {
        "id": "bZ8-WJoX5Yyo"
      },
      "source": [
        "stemmer = nltk.stem.RSLPStemmer()\n",
        "\n",
        "def LemTokens(tokens):\n",
        "    return [stemmer.stem(token) for token in tokens]\n",
        "\n",
        "remove_punct_dict = dict((ord(punct), None) for punct in string.punctuation)\n",
        "\n",
        "def LemNormalize(text):\n",
        "    return LemTokens(nltk.word_tokenize(text.lower().translate(remove_punct_dict)))"
      ],
      "execution_count": null,
      "outputs": []
    },
    {
      "cell_type": "markdown",
      "metadata": {
        "id": "Ovx6ihDx6rkO"
      },
      "source": [
        "#### Controle de saudações\n",
        "Define-se uma função para lidar com saudações feitas ao chatbot"
      ]
    },
    {
      "cell_type": "code",
      "metadata": {
        "id": "M13ygX1T6rrr"
      },
      "source": [
        "# Função de controle de saudações adaptada para usar respostas do CSV\n",
        "# Em vez de manter as respostas fixas no código, buscamos no arquivo respostas.csv\n",
        "def greeting(sentence):\n",
        "    for word in sentence.split():\n",
        "        if word.lower() in [\"olá\", \"oi\", \"ei\", \"blz\", \"bom dia\", \"boa tarde\", \"boa noite\"]:\n",
        "            # Agora pegamos uma resposta aleatória da categoria \"saudacao\"\n",
        "            return responder_categoria(\"saudacao\")"
      ],
      "execution_count": null,
      "outputs": []
    },
    {
      "cell_type": "markdown",
      "metadata": {
        "id": "vq8B3w0m9p07"
      },
      "source": [
        "#### Controle de agradecimento\n",
        "Define uma função para verificar se é um agradecimento do usuário"
      ]
    },
    {
      "cell_type": "code",
      "metadata": {
        "id": "DHkUWq6d9p7a"
      },
      "source": [
        "# Função de controle de agradecimentos adaptada para usar respostas do CSV\n",
        "# Antes: apenas verificava se era agradecimento e retornava True/False\n",
        "# Agora: retorna diretamente uma resposta da categoria \"agradecimento\"\n",
        "def isThanks(sentence):\n",
        "    for word in sentence.split():\n",
        "        if word.lower() in [\"obrigado\", \"muito obrigado\", \"obrigada\", \"muito obrigada\", \"agradecido\", \"agradecida\"]:\n",
        "            return responder_categoria(\"agradecimento\")\n",
        "    return None  # Se não encontrar, não retorna nada"
      ],
      "execution_count": null,
      "outputs": []
    },
    {
      "cell_type": "markdown",
      "metadata": {
        "id": "wLhPr_MR8pGb"
      },
      "source": [
        "#### Controle de despedidas\n",
        "Função para verificar se é uma despedida do usuário"
      ]
    },
    {
      "cell_type": "code",
      "metadata": {
        "id": "y-3S-BGP8pO6"
      },
      "source": [
        "# Função de controle de despedidas adaptada para usar respostas do CSV\n",
        "# Antes: apenas verificava e retornava True/False\n",
        "# Agora: retorna diretamente uma resposta da categoria \"despedida\"\n",
        "def isEnding(sentence):\n",
        "    for word in sentence.split():\n",
        "        if word.lower() in [\"tchau\", \"até logo\", \"fui\", \"adeus\", \"até mais\"]:\n",
        "            return responder_categoria(\"despedida\")\n",
        "    return None  # Se não encontrar, não retorna nada"
      ],
      "execution_count": null,
      "outputs": []
    },
    {
      "cell_type": "markdown",
      "metadata": {
        "id": "OAkNu6CZ7MPi"
      },
      "source": [
        "#### Controle de respostas\n",
        "Definimos uma função para controlar as respostas dadas ao usuário. Para tal, utilizamos a métrica do **TF-IDF** e a **similaridade de cosseno**, para encontrar em nosso corpus a resposta que mais se encaixa na pergunta feita pelo usuário, ou seja, **a resposta cujo texto seja mais similar ao texto da pergunta**."
      ]
    },
    {
      "cell_type": "code",
      "metadata": {
        "id": "-EA2vt-17MYj"
      },
      "source": [
        "# Esse bloco do \"Controle de respostas\" permanece como está,\n",
        "# porque já utiliza um corpus externo (faq-corpus.txt).\n",
        "# Não precisamos adaptá-lo, pois a formativa pediu apenas\n",
        "# para externalizar as respostas fixas (saudações, agradecimentos e despedidas).\n",
        "\n",
        "def response(user_response):\n",
        "    warnings.simplefilter('ignore')\n",
        "    robo_response=''\n",
        "\n",
        "    # Cria uma lista contendo todas sentenças do corpus + a sentença enviada pelo usuário. Assim geramos o TF-IDF de tudo.\n",
        "    sentencas = sent_tokens + [user_response]\n",
        "\n",
        "    # Inicia tranformação do texto em uma matriz TF-IDF - normaliza texto e retira stop-words\n",
        "    TfidfVec = TfidfVectorizer(tokenizer=LemNormalize, stop_words=nltk.corpus.stopwords.words('portuguese'))\n",
        "    tfidf = TfidfVec.fit_transform(sentencas)\n",
        "\n",
        "    # Efetua cálculo de similaridade de cosseno entre o texto do usuário, e as sentenças do corpus\n",
        "    vals = cosine_similarity(tfidf[-1], tfidf)\n",
        "    # Obtém índice/posição da termo com maior grau de similaridade com o texto do usuário\n",
        "    idx = vals.argsort()[0][-2]\n",
        "    # Ordena vetor de similaridade\n",
        "    flat = vals.flatten()\n",
        "    flat.sort()\n",
        "    # Obtém o valor de similaridade do penúltimo item no vetor\n",
        "    # Pois o último item é o próprio texto do usuário, que obtém sempre grau máximo de similaridade\n",
        "    # Portanto, obtemos a segunda maior similaridade, pois não queremos o próprio texto enviado pelo usuário\n",
        "    req_tfidf = flat[-2]\n",
        "\n",
        "    if IS_DEBUG:\n",
        "      print(\"Vetor de similaridade (último valor é o próprio texto do usuário): \")\n",
        "      print(vals)\n",
        "      print(\"Índice da maior similaridade: \")\n",
        "      print(idx)\n",
        "      print(\"Vetor de similaridade ordenado: \")\n",
        "      print(flat)\n",
        "      print(\"Similaridade da sentença mais similar encontrada: \")\n",
        "      print(req_tfidf)\n",
        "\n",
        "    # Caso não seja encontrada similaridade para nenhum item do corpus\n",
        "    if(req_tfidf==0):\n",
        "        robo_response=robo_response+\"Você poderia reformular sua pergunta?\"\n",
        "        return robo_response\n",
        "    else:\n",
        "        robo_response = robo_response+sent_tokens[idx]\n",
        "        return robo_response"
      ],
      "execution_count": null,
      "outputs": []
    },
    {
      "cell_type": "markdown",
      "metadata": {
        "id": "AWxxdt7B8PRE"
      },
      "source": [
        "#### Executando o chatbot\n",
        "Trecho de código que controla a aplicação de maneira geral. A seguir algumas perguntas que você pode fazer ao chatbot:\n",
        "\n",
        "\n",
        "\n",
        "1.   Como faço para abrir uma conta corrente?\n",
        "2.   Quais são os documentos necessários?\n",
        "3.   Do que devo tomar conhecimento?\n",
        "4.   Quero incluir outra pessoa como titular em minha conta, o que devo fazer?\n"
      ]
    },
    {
      "cell_type": "code",
      "metadata": {
        "id": "xL9rxeNP8PYd"
      },
      "source": [
        "flag=True\n",
        "\n",
        "print(\"FAQBOT: Olá, eu sou o faqbot. Posso responder suas perguntas referentes a abertura de conta no banco.\")\n",
        "\n",
        "while(flag==True):\n",
        "    # Obtém entrada do usuário\n",
        "    user_response = input()\n",
        "    user_response = user_response.lower()\n",
        "\n",
        "    # Verifica se é uma despedida\n",
        "    end_resp = isEnding(user_response)\n",
        "    if end_resp:  # Se encontrou uma despedida no CSV\n",
        "        flag = False\n",
        "        print(\"FAQBOT: \" + end_resp)\n",
        "\n",
        "    else:\n",
        "        # Verifica se é agradecimento\n",
        "        thanks_resp = isThanks(user_response)\n",
        "        if thanks_resp:  # Se encontrou agradecimento no CSV\n",
        "            flag = False\n",
        "            print(\"FAQBOT: \" + thanks_resp)\n",
        "\n",
        "        else:\n",
        "            # Verifica se é saudação\n",
        "            greet_resp = greeting(user_response)\n",
        "            if greet_resp:  # Se encontrou saudação no CSV\n",
        "                print(\"FAQBOT: \" + greet_resp)\n",
        "\n",
        "            else:\n",
        "                # Caso contrário, responde com o FAQ (TF-IDF + cosseno)\n",
        "                print(\"FAQBOT: \", end=\"\")\n",
        "                print('\\x1b[1;31m' + response(user_response) + '\\x1b[0m')"
      ],
      "execution_count": null,
      "outputs": []
    },
    {
      "cell_type": "markdown",
      "metadata": {
        "id": "r1rD-AgG0VRQ"
      },
      "source": [
        "### O que mais pode ser feito?\n",
        "\n",
        "- Poderíamos organizar melhor nosso chatbot ao utilizar uma **função única para gerenciamento de diálogos**, assim poderíamos remover as funções de controle de saudações, agradecimento e despedidas.\n",
        "- Armazenar todas listagens de possíveis respostas em **arquivos externos** (como foi feito com o corpus do FAQ), assim, evitamos ter de editar o código sempre que precisarmos adicionar novas repostas.\n",
        "- Atualmente o corpus de FAQ contém apenas as respostas possíveis. Poderíamos adicionar a ele também as perguntas relativas a cada resposta, assim, verificariamos a similaridade entre a pergunta feita pelo usuário e a pergunta do FAQ, e não com a possível resposta. Com isso espera-se que o chatbot seja mais preciso ao encontrar respostas, pois a similaridade encontrada tende a ser maior.\n",
        "- Utilizar *web scraping* para montar corpus de FAQ automaticamente, ao ler todas perguntas e respostas diretamente do site do banco (e.g., [FAQ do BB](https://www.bb.com.br/pbb/pagina-inicial/perguntas-frequentes#/))\n"
      ]
    },
    {
      "cell_type": "markdown",
      "metadata": {
        "id": "nVfYIchSJ7ib"
      },
      "source": [
        "## Referências e Material complementar\n",
        "\n",
        "* [Chatbot simples com NLTK e scikit-learn](https://github.com/kunkaweb/Chatbot)\n",
        "* [scikit-learn - TfidfVectorizer](https://scikit-learn.org/stable/modules/generated/sklearn.feature_extraction.text.TfidfVectorizer.html)\n",
        "* [scikit-learn - cosine_similarity](https://scikit-learn.org/stable/modules/generated/sklearn.metrics.pairwise.cosine_similarity.html)"
      ]
    },
    {
      "cell_type": "markdown",
      "metadata": {
        "id": "WgL8I5fyKqlU"
      },
      "source": [
        "Este notebook foi produzido por Prof. [Lucas Oliveira](http://lattes.cnpq.br/3611246009892500)."
      ]
    }
  ]
}